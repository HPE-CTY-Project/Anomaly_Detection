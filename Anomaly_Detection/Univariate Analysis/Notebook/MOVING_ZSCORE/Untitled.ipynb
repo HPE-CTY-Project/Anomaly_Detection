{
 "cells": [
  {
   "cell_type": "code",
   "execution_count": 1,
   "id": "c0c0a2c6",
   "metadata": {},
   "outputs": [],
   "source": [
    "import pandas as pd\n",
    "import numpy as np\n",
    "import matplotlib.pyplot as plt\n",
    "from scipy.stats import zscore\n",
    "from matplotlib import style\n"
   ]
  },
  {
   "cell_type": "code",
   "execution_count": 2,
   "id": "837032a7",
   "metadata": {},
   "outputs": [],
   "source": [
    "data = pd.read_csv('feature_seln.csv',parse_dates=['START_TIME'],index_col='START_TIME')\n",
    "df=data[data.columns[1:]]"
   ]
  },
  {
   "cell_type": "code",
   "execution_count": 6,
   "id": "252bef29",
   "metadata": {},
   "outputs": [],
   "source": [
    "window_size=12;"
   ]
  },
  {
   "cell_type": "code",
   "execution_count": 7,
   "id": "a60d7388",
   "metadata": {},
   "outputs": [],
   "source": [
    "threshold=2"
   ]
  },
  {
   "cell_type": "code",
   "execution_count": 10,
   "id": "53ab1857",
   "metadata": {},
   "outputs": [],
   "source": [
    "def moving_z_score(df, window_size, threshold):\n",
    "    # Initialize variables\n",
    "    scores = np.zeros(len(df))\n",
    "    means = np.zeros(len(df))\n",
    "    stds = np.zeros(len(df))\n",
    "\n",
    "    # Calculate rolling mean and standard deviation\n",
    "    for i in range(window_size-1, len(df)):\n",
    "        window = df[i-window_size+1:i+1]\n",
    "        means[i] = np.mean(window)\n",
    "        stds[i] = np.std(window, ddof=1)\n",
    "\n",
    "    # Calculate z-scores\n",
    "    scores[window_size-1:] = np.abs(df[window_size-1:] - means[window_size-1:]) / stds[window_size-1:]\n",
    "\n",
    "    # Identify anomalies\n",
    "    anomalies = np.where(scores > threshold)[0]\n",
    "    contamination = len(anomalies) / len(df)\n",
    "\n",
    "    return anomalies, scores, means, stds, contamination\n"
   ]
  },
  {
   "cell_type": "code",
   "execution_count": 3,
   "id": "05cc0656",
   "metadata": {},
   "outputs": [],
   "source": [
    "window_sizes={12,24,36}"
   ]
  },
  {
   "cell_type": "code",
   "execution_count": 11,
   "id": "da630060",
   "metadata": {},
   "outputs": [
    {
     "ename": "ValueError",
     "evalue": "setting an array element with a sequence.",
     "output_type": "error",
     "traceback": [
      "\u001b[1;31m---------------------------------------------------------------------------\u001b[0m",
      "\u001b[1;31mTypeError\u001b[0m                                 Traceback (most recent call last)",
      "File \u001b[1;32mc:\\users\\shash\\appdata\\local\\programs\\python\\python39\\lib\\site-packages\\pandas\\core\\series.py:191\u001b[0m, in \u001b[0;36m_coerce_method.<locals>.wrapper\u001b[1;34m(self)\u001b[0m\n\u001b[0;32m    190\u001b[0m     \u001b[38;5;28;01mreturn\u001b[39;00m converter(\u001b[38;5;28mself\u001b[39m\u001b[38;5;241m.\u001b[39miloc[\u001b[38;5;241m0\u001b[39m])\n\u001b[1;32m--> 191\u001b[0m \u001b[38;5;28;01mraise\u001b[39;00m \u001b[38;5;167;01mTypeError\u001b[39;00m(\u001b[38;5;124mf\u001b[39m\u001b[38;5;124m\"\u001b[39m\u001b[38;5;124mcannot convert the series to \u001b[39m\u001b[38;5;132;01m{\u001b[39;00mconverter\u001b[38;5;132;01m}\u001b[39;00m\u001b[38;5;124m\"\u001b[39m)\n",
      "\u001b[1;31mTypeError\u001b[0m: cannot convert the series to <class 'float'>",
      "\nThe above exception was the direct cause of the following exception:\n",
      "\u001b[1;31mValueError\u001b[0m                                Traceback (most recent call last)",
      "Cell \u001b[1;32mIn[11], line 1\u001b[0m\n\u001b[1;32m----> 1\u001b[0m anomalies, scores, means, stds, contamination \u001b[38;5;241m=\u001b[39m \u001b[43mmoving_z_score\u001b[49m\u001b[43m(\u001b[49m\u001b[43mdf\u001b[49m\u001b[43m,\u001b[49m\u001b[43m \u001b[49m\u001b[43mwindow_size\u001b[49m\u001b[43m,\u001b[49m\u001b[43m \u001b[49m\u001b[43mthreshold\u001b[49m\u001b[43m)\u001b[49m\n",
      "Cell \u001b[1;32mIn[10], line 10\u001b[0m, in \u001b[0;36mmoving_z_score\u001b[1;34m(df, window_size, threshold)\u001b[0m\n\u001b[0;32m      8\u001b[0m \u001b[38;5;28;01mfor\u001b[39;00m i \u001b[38;5;129;01min\u001b[39;00m \u001b[38;5;28mrange\u001b[39m(window_size\u001b[38;5;241m-\u001b[39m\u001b[38;5;241m1\u001b[39m, \u001b[38;5;28mlen\u001b[39m(df)):\n\u001b[0;32m      9\u001b[0m     window \u001b[38;5;241m=\u001b[39m df[i\u001b[38;5;241m-\u001b[39mwindow_size\u001b[38;5;241m+\u001b[39m\u001b[38;5;241m1\u001b[39m:i\u001b[38;5;241m+\u001b[39m\u001b[38;5;241m1\u001b[39m]\n\u001b[1;32m---> 10\u001b[0m     \u001b[43mmeans\u001b[49m\u001b[43m[\u001b[49m\u001b[43mi\u001b[49m\u001b[43m]\u001b[49m \u001b[38;5;241m=\u001b[39m np\u001b[38;5;241m.\u001b[39mmean(window)\n\u001b[0;32m     11\u001b[0m     stds[i] \u001b[38;5;241m=\u001b[39m np\u001b[38;5;241m.\u001b[39mstd(window, ddof\u001b[38;5;241m=\u001b[39m\u001b[38;5;241m1\u001b[39m)\n\u001b[0;32m     13\u001b[0m \u001b[38;5;66;03m# Calculate z-scores\u001b[39;00m\n",
      "\u001b[1;31mValueError\u001b[0m: setting an array element with a sequence."
     ]
    }
   ],
   "source": [
    "anomalies, scores, means, stds, contamination = moving_z_score(df, window_size, threshold)\n"
   ]
  },
  {
   "cell_type": "code",
   "execution_count": null,
   "id": "a472482f",
   "metadata": {},
   "outputs": [],
   "source": []
  },
  {
   "cell_type": "code",
   "execution_count": null,
   "id": "adbaf982",
   "metadata": {},
   "outputs": [],
   "source": []
  },
  {
   "cell_type": "code",
   "execution_count": null,
   "id": "ae5b834e",
   "metadata": {},
   "outputs": [],
   "source": []
  },
  {
   "cell_type": "code",
   "execution_count": null,
   "id": "675dea9e",
   "metadata": {},
   "outputs": [],
   "source": []
  },
  {
   "cell_type": "code",
   "execution_count": null,
   "id": "1936f201",
   "metadata": {},
   "outputs": [],
   "source": []
  },
  {
   "cell_type": "code",
   "execution_count": null,
   "id": "d2b7c8fd",
   "metadata": {},
   "outputs": [],
   "source": []
  }
 ],
 "metadata": {
  "kernelspec": {
   "display_name": "Python 3 (ipykernel)",
   "language": "python",
   "name": "python3"
  },
  "language_info": {
   "codemirror_mode": {
    "name": "ipython",
    "version": 3
   },
   "file_extension": ".py",
   "mimetype": "text/x-python",
   "name": "python",
   "nbconvert_exporter": "python",
   "pygments_lexer": "ipython3",
   "version": "3.9.5"
  }
 },
 "nbformat": 4,
 "nbformat_minor": 5
}
