{
 "cells": [
  {
   "cell_type": "code",
   "execution_count": 1,
   "id": "5f8ef7c8",
   "metadata": {},
   "outputs": [],
   "source": [
    "import pandas as pd\n",
    "import datetime\n",
    "import numpy as np\n",
    "import matplotlib.pyplot as plt\n",
    "data=pd.read_csv('C://Users//Admin//OneDrive//Desktop//HPE//data_1.csv')"
   ]
  },
  {
   "cell_type": "code",
   "execution_count": 2,
   "id": "232a1115",
   "metadata": {},
   "outputs": [
    {
     "data": {
      "text/plain": [
       "(2944, 39)"
      ]
     },
     "execution_count": 2,
     "metadata": {},
     "output_type": "execute_result"
    }
   ],
   "source": [
    "data.shape"
   ]
  },
  {
   "cell_type": "code",
   "execution_count": 3,
   "id": "227ce30a",
   "metadata": {},
   "outputs": [
    {
     "data": {
      "text/plain": [
       "{Timestamp('2021-07-29 21:00:00', freq='H'),\n",
       " Timestamp('2021-07-29 22:00:00', freq='H'),\n",
       " Timestamp('2021-07-29 23:00:00', freq='H'),\n",
       " Timestamp('2021-07-30 00:00:00', freq='H'),\n",
       " Timestamp('2021-07-30 01:00:00', freq='H'),\n",
       " Timestamp('2021-07-30 02:00:00', freq='H'),\n",
       " Timestamp('2021-07-30 03:00:00', freq='H'),\n",
       " Timestamp('2021-07-30 04:00:00', freq='H')}"
      ]
     },
     "execution_count": 3,
     "metadata": {},
     "output_type": "execute_result"
    }
   ],
   "source": [
    "data['START_TIME'] = pd.to_datetime(data['START_TIME'])\n",
    "set1=set(pd.date_range(data['START_TIME'].min(),data['START_TIME'].max(),freq='H'))\n",
    "set2=set(data['START_TIME'])\n",
    "set1-set2"
   ]
  },
  {
   "cell_type": "code",
   "execution_count": 4,
   "id": "9061bf99",
   "metadata": {},
   "outputs": [],
   "source": [
    "df=data\n",
    "df=df.set_index('START_TIME').resample('H').mean()"
   ]
  },
  {
   "cell_type": "code",
   "execution_count": 5,
   "id": "346352f0",
   "metadata": {},
   "outputs": [
    {
     "data": {
      "text/plain": [
       "(2952, 38)"
      ]
     },
     "execution_count": 5,
     "metadata": {},
     "output_type": "execute_result"
    }
   ],
   "source": [
    "df.shape"
   ]
  },
  {
   "cell_type": "code",
   "execution_count": 6,
   "id": "71d1495d",
   "metadata": {},
   "outputs": [
    {
     "data": {
      "text/plain": [
       "F1      8\n",
       "F2      8\n",
       "F3      8\n",
       "F4      8\n",
       "F5      8\n",
       "F6      8\n",
       "F7      8\n",
       "F8      8\n",
       "F9      8\n",
       "F10     8\n",
       "F11     8\n",
       "F12     8\n",
       "F13     8\n",
       "F14     8\n",
       "F15     8\n",
       "F16     8\n",
       "F17     8\n",
       "F18     8\n",
       "F19    68\n",
       "F20    68\n",
       "F21     8\n",
       "F22     8\n",
       "F23     8\n",
       "F24     8\n",
       "F25     8\n",
       "F26     8\n",
       "F27     8\n",
       "F28     8\n",
       "F29     8\n",
       "F30     8\n",
       "F31     8\n",
       "F32     8\n",
       "F33     8\n",
       "F34     8\n",
       "F35     8\n",
       "F36     8\n",
       "F37     8\n",
       "F38     8\n",
       "dtype: int64"
      ]
     },
     "execution_count": 6,
     "metadata": {},
     "output_type": "execute_result"
    }
   ],
   "source": [
    "df.isnull().sum()"
   ]
  },
  {
   "cell_type": "code",
   "execution_count": 7,
   "id": "68b77c6b",
   "metadata": {},
   "outputs": [],
   "source": [
    "df=df.ffill(axis = 0)"
   ]
  },
  {
   "cell_type": "code",
   "execution_count": 8,
   "id": "b632344a",
   "metadata": {},
   "outputs": [
    {
     "data": {
      "text/plain": [
       "F1     0\n",
       "F2     0\n",
       "F3     0\n",
       "F4     0\n",
       "F5     0\n",
       "F6     0\n",
       "F7     0\n",
       "F8     0\n",
       "F9     0\n",
       "F10    0\n",
       "F11    0\n",
       "F12    0\n",
       "F13    0\n",
       "F14    0\n",
       "F15    0\n",
       "F16    0\n",
       "F17    0\n",
       "F18    0\n",
       "F19    0\n",
       "F20    0\n",
       "F21    0\n",
       "F22    0\n",
       "F23    0\n",
       "F24    0\n",
       "F25    0\n",
       "F26    0\n",
       "F27    0\n",
       "F28    0\n",
       "F29    0\n",
       "F30    0\n",
       "F31    0\n",
       "F32    0\n",
       "F33    0\n",
       "F34    0\n",
       "F35    0\n",
       "F36    0\n",
       "F37    0\n",
       "F38    0\n",
       "dtype: int64"
      ]
     },
     "execution_count": 8,
     "metadata": {},
     "output_type": "execute_result"
    }
   ],
   "source": [
    "df.isnull().sum()"
   ]
  },
  {
   "cell_type": "code",
   "execution_count": 9,
   "id": "157b7b22",
   "metadata": {},
   "outputs": [],
   "source": [
    "df.to_excel(\"C:\\\\Users\\\\Admin\\\\OneDrive\\\\Desktop\\\\HPE\\\\data_timestamps.xlsx\")"
   ]
  },
  {
   "cell_type": "code",
   "execution_count": 15,
   "id": "799da1ee",
   "metadata": {},
   "outputs": [],
   "source": [
    "import numpy as np\n",
    "import pandas as pd\n",
    "import math\n",
    "\n",
    "# Load the existing time series dataset\n",
    "data = pd.read_csv('C:\\\\Users\\\\Admin\\\\OneDrive\\\\Desktop\\\\HPE\\\\data_timestamps.csv')\n",
    "\n",
    "# Define small constant for handling zero values\n",
    "EPSILON = 1e-6\n",
    "\n",
    "# Get all pairs of variables with correlation coefficient of 1\n",
    "corr_matrix = data.corr()\n",
    "corr_pairs = []\n",
    "for i in range(len(corr_matrix.columns)):\n",
    "    for j in range(i+1, len(corr_matrix.columns)):\n",
    "        if round(abs(corr_matrix.iloc[i,j]),2) == 1:\n",
    "            corr_pairs.append((corr_matrix.columns[i],corr_matrix.columns[j]))\n",
    "\n",
    "# Create new variables for each correlated pair in the corr_pairs array\n",
    "for pair in corr_pairs:\n",
    "    var1 = data[pair[0]]\n",
    "    var2 = data[pair[1]]\n",
    "    if var1.min() == 0:\n",
    "        new_var_name = f'{pair[1]}/{pair[0]}'\n",
    "        new_var = var2 / (var1 + EPSILON)\n",
    "    else:\n",
    "        new_var_name = f'{pair[0]}/{pair[1]}'\n",
    "        new_var = var1 / (var2 + EPSILON)\n",
    "    data[new_var_name] = new_var\n",
    "\n",
    "# Remove the old variables and keep the new ones\n",
    "original_vars = [pair[0] for pair in corr_pairs] + [pair[1] for pair in corr_pairs]\n",
    "data = data.drop(original_vars, axis=1)\n",
    "data.to_csv('C:\\\\Users\\\\Admin\\\\OneDrive\\\\Desktop\\\\HPE\\\\feature_seln_new.csv')"
   ]
  },
  {
   "cell_type": "code",
   "execution_count": null,
   "id": "10454702",
   "metadata": {},
   "outputs": [],
   "source": [
    "\n"
   ]
  },
  {
   "cell_type": "code",
   "execution_count": null,
   "id": "31d343a3",
   "metadata": {},
   "outputs": [],
   "source": []
  }
 ],
 "metadata": {
  "kernelspec": {
   "display_name": "Python 3 (ipykernel)",
   "language": "python",
   "name": "python3"
  },
  "language_info": {
   "codemirror_mode": {
    "name": "ipython",
    "version": 3
   },
   "file_extension": ".py",
   "mimetype": "text/x-python",
   "name": "python",
   "nbconvert_exporter": "python",
   "pygments_lexer": "ipython3",
   "version": "3.9.13"
  }
 },
 "nbformat": 4,
 "nbformat_minor": 5
}
