{
 "cells": [
  {
   "cell_type": "code",
   "execution_count": 15,
   "id": "16aeb64b",
   "metadata": {},
   "outputs": [
    {
     "name": "stdout",
     "output_type": "stream",
     "text": [
      "[0 0 0 ... 0 1 0]\n"
     ]
    }
   ],
   "source": [
    "import pandas as pd\n",
    "import numpy as np\n",
    "from scipy.spatial.distance import mahalanobis\n",
    "from sklearn.preprocessing import StandardScaler\n",
    "from sklearn.metrics import precision_score,f1_score,accuracy_score,recall_score\n",
    "import time\n",
    "# get the start time\n",
    "start_wall_time = time.time()\n",
    "start_cpu_time = time.process_time()\n",
    "data = pd.read_csv(\"C:\\\\Users\\\\disha\\\\Downloads\\\\newdata.csv\")\n",
    "data = data.set_index('timestamp')\n",
    "\n",
    "# Scale the data\n",
    "scaler = StandardScaler()\n",
    "data_scaled = scaler.fit_transform(data)\n",
    "\n",
    "cov = np.cov(data_scaled, rowvar=False)\n",
    "\n",
    "inv_cov = np.linalg.inv(cov)\n",
    "\n",
    "mean = np.mean(data_scaled, axis=0)\n",
    "\n",
    "# calculate Mahalanobis distances\n",
    "distances = []\n",
    "for i in range(len(data_scaled)):\n",
    "    distance = mahalanobis(data_scaled[i], mean, inv_cov)\n",
    "    distances.append(distance)\n",
    "\n",
    "# calculate threshold value\n",
    "threshold = np.percentile(distances, 74)\n",
    "\n",
    "# create anomaly column\n",
    "anomalies = np.where(distances > threshold, 1, 0)\n",
    "data['Anomaly'] = anomalies.astype(int)\n",
    "\n",
    "# output anomalies\n",
    "anomalies = data['Anomaly'].values\n",
    "\n",
    "print(anomalies)\n",
    "\n",
    "# get the end time\n",
    "end_wall_time = time.time()\n",
    "end_cpu_time = time.process_time()\n",
    "\n"
   ]
  },
  {
   "cell_type": "code",
   "execution_count": 18,
   "id": "d9072fb9",
   "metadata": {},
   "outputs": [
    {
     "name": "stdout",
     "output_type": "stream",
     "text": [
      "Elapsed time: 0.05080699920654297 seconds\n",
      "CPU time: 0.03125 seconds\n",
      "Physical Memory usage: 98 MB\n",
      "Virtual Memory usage:  389 MB\n"
     ]
    }
   ],
   "source": [
    "import psutil\n",
    "import os\n",
    "# get the execution time\n",
    "wall_time = end_wall_time - start_wall_time\n",
    "cpu_time = end_cpu_time - start_cpu_time\n",
    "# Print the execution time\n",
    "print(f'Elapsed time: {wall_time} seconds')\n",
    "print(f'CPU time: {cpu_time} seconds')\n",
    "print(f'Physical Memory usage: {int(psutil.Process(os.getpid()).memory_info().rss / 1024 ** 2)} MB')\n",
    "print(f'Virtual Memory usage:  {int(psutil.Process(os.getpid()).memory_info().vms / 1024 ** 2)} MB')"
   ]
  },
  {
   "cell_type": "code",
   "execution_count": 13,
   "id": "6b919660",
   "metadata": {},
   "outputs": [
    {
     "name": "stdout",
     "output_type": "stream",
     "text": [
      "Number of anomalous tuples: 262\n"
     ]
    }
   ],
   "source": [
    "anomalous_count = len(data[data['Anomaly'] == 1])\n",
    "print(\"Number of anomalous tuples:\", anomalous_count)"
   ]
  },
  {
   "cell_type": "code",
   "execution_count": 17,
   "id": "7762946b",
   "metadata": {},
   "outputs": [
    {
     "name": "stdout",
     "output_type": "stream",
     "text": [
      "precision=  0.9198473282442748\n",
      "F1 score=  0.9180952380952382\n",
      "recall=  0.9163498098859315\n",
      "accuracy=  0.9573412698412699\n"
     ]
    }
   ],
   "source": [
    "#mahalanobis\n",
    "true_values = data['Overall anomaly'].values\n",
    "predicted_values = data['Anomaly'].values\n",
    "precision = precision_score(true_values, predicted_values)\n",
    "f1=f1_score(true_values, predicted_values)\n",
    "recall=recall_score(true_values, predicted_values)\n",
    "accuracy=accuracy_score(true_values, predicted_values)\n",
    "print(\"precision= \",precision)\n",
    "print(\"F1 score= \",f1)\n",
    "print(\"recall= \",recall)\n",
    "print(\"accuracy= \",accuracy)"
   ]
  },
  {
   "cell_type": "code",
   "execution_count": null,
   "id": "b480dbaf",
   "metadata": {},
   "outputs": [],
   "source": []
  }
 ],
 "metadata": {
  "kernelspec": {
   "display_name": "Python 3 (ipykernel)",
   "language": "python",
   "name": "python3"
  },
  "language_info": {
   "codemirror_mode": {
    "name": "ipython",
    "version": 3
   },
   "file_extension": ".py",
   "mimetype": "text/x-python",
   "name": "python",
   "nbconvert_exporter": "python",
   "pygments_lexer": "ipython3",
   "version": "3.9.13"
  }
 },
 "nbformat": 4,
 "nbformat_minor": 5
}
