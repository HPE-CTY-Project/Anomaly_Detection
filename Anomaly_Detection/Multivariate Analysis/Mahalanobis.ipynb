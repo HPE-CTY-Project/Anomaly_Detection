{
 "cells": [
  {
   "cell_type": "code",
   "execution_count": 11,
   "id": "15c624ea",
   "metadata": {},
   "outputs": [
    {
     "name": "stdout",
     "output_type": "stream",
     "text": [
      "[0 0 0 ... 0 1 0]\n"
     ]
    }
   ],
   "source": [
    "import pandas as pd\n",
    "import numpy as np\n",
    "from scipy.spatial.distance import mahalanobis\n",
    "\n",
    "\n",
    "data = pd.read_csv(\"C:\\\\Users\\\\disha\\\\Downloads\\\\newdata.csv\")\n",
    "data = data.set_index('timestamp')\n",
    "\n",
    "\n",
    "cov = np.cov(data, rowvar=False)\n",
    "\n",
    "\n",
    "inv_cov = np.linalg.inv(cov)\n",
    "\n",
    "\n",
    "mean = np.mean(data, axis=0)\n",
    "\n",
    "# calculate Mahalanobis distances\n",
    "distances = []\n",
    "for i in range(len(data)):\n",
    "    distance = mahalanobis(data.iloc[i], mean, inv_cov)\n",
    "    distances.append(distance)\n",
    "\n",
    "# calculate threshold value\n",
    "threshold = np.mean(distances) + 2*np.std(distances)\n",
    "\n",
    "# create anomaly column\n",
    "data['Anomaly'] = np.where(distances > threshold, 1, 0)\n",
    "\n",
    "# output anomalies\n",
    "anomalies = data['Anomaly'].values\n",
    "\n",
    "print(anomalies)\n"
   ]
  },
  {
   "cell_type": "code",
   "execution_count": null,
   "id": "28c8bb4e",
   "metadata": {},
   "outputs": [],
   "source": [
    "data.to_csv('C:\\\\Users\\\\disha\\\\Downloads\\\\mahalanobisdataset.csv')"
   ]
  },
  {
   "cell_type": "code",
   "execution_count": 2,
   "id": "3080bc34",
   "metadata": {},
   "outputs": [],
   "source": [
    "from sklearn.metrics import precision_score,recall_score,f1_score,accuracy_score\n",
    "datas=pd.read_csv('C:\\\\Users\\\\disha\\\\Downloads\\\\mahalanobisdataset.csv', parse_dates=['timestamp'])"
   ]
  },
  {
   "cell_type": "code",
   "execution_count": 3,
   "id": "63f8681e",
   "metadata": {},
   "outputs": [
    {
     "name": "stdout",
     "output_type": "stream",
     "text": [
      "precision=  0.2711864406779661\n",
      "F1 score=  0.3404255319148936\n",
      "recall=  0.45714285714285713\n",
      "accuracy=  0.9384920634920635\n"
     ]
    }
   ],
   "source": [
    "#mahalanobis\n",
    "true_values = datas['Major anomaly'].values\n",
    "predicted_values = datas['Anomaly'].values\n",
    "precision = precision_score(true_values, predicted_values)\n",
    "f1=f1_score(true_values, predicted_values)\n",
    "recall=recall_score(true_values, predicted_values)\n",
    "accuracy=accuracy_score(true_values, predicted_values)\n",
    "print(\"precision= \",precision)\n",
    "print(\"F1 score= \",f1)\n",
    "print(\"recall= \",recall)\n",
    "print(\"accuracy= \",accuracy)"
   ]
  },
  {
   "cell_type": "code",
   "execution_count": 12,
   "id": "47b21eb5",
   "metadata": {},
   "outputs": [
    {
     "name": "stdout",
     "output_type": "stream",
     "text": [
      "Number of anomalous tuples: 59\n"
     ]
    }
   ],
   "source": [
    "anomalous_count = len(data[data['Anomaly'] == 1])\n",
    "print(\"Number of anomalous tuples:\", anomalous_count)"
   ]
  },
  {
   "cell_type": "code",
   "execution_count": null,
   "id": "e498c205",
   "metadata": {},
   "outputs": [],
   "source": []
  }
 ],
 "metadata": {
  "kernelspec": {
   "display_name": "Python 3 (ipykernel)",
   "language": "python",
   "name": "python3"
  },
  "language_info": {
   "codemirror_mode": {
    "name": "ipython",
    "version": 3
   },
   "file_extension": ".py",
   "mimetype": "text/x-python",
   "name": "python",
   "nbconvert_exporter": "python",
   "pygments_lexer": "ipython3",
   "version": "3.9.13"
  }
 },
 "nbformat": 4,
 "nbformat_minor": 5
}
