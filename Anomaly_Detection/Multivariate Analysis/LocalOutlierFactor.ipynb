{
 "cells": [
  {
   "cell_type": "code",
   "execution_count": 1,
   "id": "a34ae7a6",
   "metadata": {},
   "outputs": [],
   "source": [
    "import numpy as np\n",
    "import pandas as pd\n",
    "from sklearn.neighbors import LocalOutlierFactor\n",
    "import warnings\n",
    "warnings.filterwarnings('ignore')"
   ]
  },
  {
   "cell_type": "code",
   "execution_count": 2,
   "id": "937113c8",
   "metadata": {},
   "outputs": [],
   "source": [
    "import time\n",
    "import psutil\n",
    "import os"
   ]
  },
  {
   "cell_type": "code",
   "execution_count": 3,
   "id": "71a0293e",
   "metadata": {},
   "outputs": [],
   "source": [
    "data=pd.read_csv('C://Users//Admin//OneDrive//Desktop//HPE//data_new.csv')\n",
    "data['timestamp'] = pd.to_datetime(data['timestamp'])\n",
    "data.set_index('timestamp', inplace=True)"
   ]
  },
  {
   "cell_type": "code",
   "execution_count": 4,
   "id": "ccfced8d",
   "metadata": {},
   "outputs": [],
   "source": [
    "df=data.iloc[:,0:-3:2]"
   ]
  },
  {
   "cell_type": "code",
   "execution_count": 9,
   "id": "b7e8d113",
   "metadata": {},
   "outputs": [
    {
     "name": "stdout",
     "output_type": "stream",
     "text": [
      "Best parameters:  {'n_neighbors': 1}\n"
     ]
    }
   ],
   "source": [
    "from sklearn.model_selection import GridSearchCV\n",
    "\n",
    "lof = LocalOutlierFactor()\n",
    "n = 30 # Max number of neighbours you want to consider\n",
    "param_grid = {'n_neighbors': np.arange(1, n+1)}\n",
    "\n",
    "\n",
    "# Create an instance of the GridSearchCV method\n",
    "grid_search = GridSearchCV(lof, param_grid, cv=5, scoring='f1')\n",
    "\n",
    "# Fit the grid search to the data\n",
    "grid_search.fit(df)\n",
    "\n",
    "# Print the best parameters and the corresponding score\n",
    "print(\"Best parameters: \", grid_search.best_params_)\n"
   ]
  },
  {
   "cell_type": "code",
   "execution_count": 56,
   "id": "786435e6",
   "metadata": {},
   "outputs": [],
   "source": [
    "model = LocalOutlierFactor(n_neighbors= 1,contamination= 0.06 )"
   ]
  },
  {
   "cell_type": "code",
   "execution_count": 57,
   "id": "e06e5dab",
   "metadata": {},
   "outputs": [],
   "source": [
    "# get the start time\n",
    "start_wall_time = time.time()\n",
    "start_cpu_time = time.process_time()"
   ]
  },
  {
   "cell_type": "code",
   "execution_count": 58,
   "id": "54221eff",
   "metadata": {},
   "outputs": [],
   "source": [
    "label=model.fit_predict(df)"
   ]
  },
  {
   "cell_type": "code",
   "execution_count": 59,
   "id": "70112447",
   "metadata": {},
   "outputs": [],
   "source": [
    "# get the end time\n",
    "end_wall_time = time.time()\n",
    "end_cpu_time = time.process_time()"
   ]
  },
  {
   "cell_type": "code",
   "execution_count": 60,
   "id": "b12f35e6",
   "metadata": {},
   "outputs": [
    {
     "data": {
      "text/plain": [
       "array([1, 1, 1, ..., 1, 1, 1])"
      ]
     },
     "execution_count": 60,
     "metadata": {},
     "output_type": "execute_result"
    }
   ],
   "source": [
    "label"
   ]
  },
  {
   "cell_type": "code",
   "execution_count": 61,
   "id": "f3cc79fa",
   "metadata": {},
   "outputs": [],
   "source": [
    "label[label == 1] = 0\n",
    "label[label == -1] = 1"
   ]
  },
  {
   "cell_type": "code",
   "execution_count": 62,
   "id": "5a4dcc68",
   "metadata": {},
   "outputs": [
    {
     "data": {
      "text/plain": [
       "array([0, 0, 0, ..., 0, 0, 0])"
      ]
     },
     "execution_count": 62,
     "metadata": {},
     "output_type": "execute_result"
    }
   ],
   "source": [
    "label"
   ]
  },
  {
   "cell_type": "code",
   "execution_count": 63,
   "id": "39ce7074",
   "metadata": {},
   "outputs": [],
   "source": [
    "df['Predictions'] = label"
   ]
  },
  {
   "cell_type": "code",
   "execution_count": 64,
   "id": "3963dab7",
   "metadata": {},
   "outputs": [
    {
     "data": {
      "text/plain": [
       "0    947\n",
       "1     61\n",
       "Name: Predictions, dtype: int64"
      ]
     },
     "execution_count": 64,
     "metadata": {},
     "output_type": "execute_result"
    }
   ],
   "source": [
    "df['Predictions'].value_counts()"
   ]
  },
  {
   "cell_type": "code",
   "execution_count": 65,
   "id": "3c4f0bde",
   "metadata": {},
   "outputs": [
    {
     "name": "stdout",
     "output_type": "stream",
     "text": [
      "timestamp\n",
      "2021-01-03 02:00:00    1\n",
      "2021-01-04 05:00:00    1\n",
      "2021-01-07 05:00:00    1\n",
      "2021-01-08 01:00:00    1\n",
      "2021-01-10 03:00:00    1\n",
      "                      ..\n",
      "2021-02-10 10:00:00    1\n",
      "2021-02-10 21:00:00    1\n",
      "2021-02-11 00:00:00    1\n",
      "2021-02-11 03:00:00    1\n",
      "2021-02-11 16:00:00    1\n",
      "Name: Predictions, Length: 61, dtype: int32\n"
     ]
    }
   ],
   "source": [
    "anomalies = df[df['Predictions'] == 1]\n",
    "print(anomalies['Predictions'])"
   ]
  },
  {
   "cell_type": "code",
   "execution_count": 66,
   "id": "dc5dc7ab",
   "metadata": {},
   "outputs": [],
   "source": [
    "# get the execution time\n",
    "wall_time = end_wall_time - start_wall_time\n",
    "cpu_time = end_cpu_time - start_cpu_time"
   ]
  },
  {
   "cell_type": "code",
   "execution_count": 67,
   "id": "33a3fff5",
   "metadata": {},
   "outputs": [
    {
     "name": "stdout",
     "output_type": "stream",
     "text": [
      "Elapsed time: 1 seconds\n",
      "CPU time: 0 seconds\n"
     ]
    }
   ],
   "source": [
    "print(f'Elapsed time: {int(wall_time)} seconds')\n",
    "print(f'CPU time: {int(cpu_time)} seconds')"
   ]
  },
  {
   "cell_type": "code",
   "execution_count": 68,
   "id": "b486c7cc",
   "metadata": {},
   "outputs": [
    {
     "name": "stdout",
     "output_type": "stream",
     "text": [
      "Physical Memory usage: 107 MB\n",
      "Virtual Memory usage:  180 MB\n"
     ]
    }
   ],
   "source": [
    "print(f'Physical Memory usage: {int(psutil.Process(os.getpid()).memory_info().rss / 1024 ** 2)} MB') \n",
    "print(f'Virtual Memory usage:  {int(psutil.Process(os.getpid()).memory_info().vms / 1024 ** 2)} MB')"
   ]
  },
  {
   "cell_type": "code",
   "execution_count": 69,
   "id": "6721e009",
   "metadata": {},
   "outputs": [
    {
     "name": "stdout",
     "output_type": "stream",
     "text": [
      "precision= 0.2786885245901639\n",
      "f1= 0.35416666666666663\n",
      "recall= 0.4857142857142857\n",
      "accuracy= 0.9384920634920635\n"
     ]
    }
   ],
   "source": [
    "#PERFORMANCE PREDICTION\n",
    "from sklearn.metrics import accuracy_score, precision_score, f1_score, recall_score\n",
    "import pandas as pd\n",
    "\n",
    "\n",
    "true_values = data['Major anomaly'].values\n",
    "predicted_values = df['Predictions'].values\n",
    "precision = precision_score(true_values, predicted_values)\n",
    "f1=f1_score(true_values, predicted_values)\n",
    "recall=recall_score(true_values, predicted_values)\n",
    "accuracy= accuracy_score(true_values, predicted_values)\n",
    "\n",
    "print(\"precision=\",precision)\n",
    "print(\"f1=\",f1)\n",
    "print(\"recall=\",recall)\n",
    "print(\"accuracy=\",accuracy)"
   ]
  },
  {
   "cell_type": "code",
   "execution_count": null,
   "id": "fdf102b1",
   "metadata": {},
   "outputs": [],
   "source": []
  }
 ],
 "metadata": {
  "kernelspec": {
   "display_name": "Python 3 (ipykernel)",
   "language": "python",
   "name": "python3"
  },
  "language_info": {
   "codemirror_mode": {
    "name": "ipython",
    "version": 3
   },
   "file_extension": ".py",
   "mimetype": "text/x-python",
   "name": "python",
   "nbconvert_exporter": "python",
   "pygments_lexer": "ipython3",
   "version": "3.10.9"
  }
 },
 "nbformat": 4,
 "nbformat_minor": 5
}
