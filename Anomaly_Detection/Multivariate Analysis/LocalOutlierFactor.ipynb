{
 "cells": [
  {
   "cell_type": "code",
   "execution_count": 1,
   "id": "a34ae7a6",
   "metadata": {},
   "outputs": [],
   "source": [
    "import numpy as np\n",
    "import pandas as pd\n",
    "from sklearn.neighbors import LocalOutlierFactor\n",
    "from sklearn.preprocessing import StandardScaler "
   ]
  },
  {
   "cell_type": "code",
   "execution_count": 2,
   "id": "937113c8",
   "metadata": {},
   "outputs": [],
   "source": [
    "import time\n",
    "import psutil\n",
    "import os"
   ]
  },
  {
   "cell_type": "code",
   "execution_count": 3,
   "id": "71a0293e",
   "metadata": {},
   "outputs": [],
   "source": [
    "data=pd.read_csv('C://Users//Admin//OneDrive//Desktop//HPE//data_new.csv')\n",
    "data['timestamp'] = pd.to_datetime(data['timestamp'])\n",
    "data.set_index('timestamp', inplace=True)"
   ]
  },
  {
   "cell_type": "code",
   "execution_count": 4,
   "id": "ccfced8d",
   "metadata": {},
   "outputs": [],
   "source": [
    "X=data.iloc[:,0:-3:2]\n",
    "Y=data.iloc[:,-3]"
   ]
  },
  {
   "cell_type": "code",
   "execution_count": 5,
   "id": "37246fc1",
   "metadata": {},
   "outputs": [],
   "source": [
    "#Scaling the data\n",
    "sc = StandardScaler() \n",
    "data_scaled = sc.fit_transform(X) "
   ]
  },
  {
   "cell_type": "code",
   "execution_count": 6,
   "id": "6b852a1f",
   "metadata": {},
   "outputs": [
    {
     "data": {
      "text/plain": [
       "array([[-1.80330869,  1.36189313, -1.95855627, ...,  1.5935427 ,\n",
       "         0.8385898 ,  0.95652271],\n",
       "       [-1.73987955,  1.33376679, -1.90372596, ...,  1.44596626,\n",
       "         0.97371269,  0.97555823],\n",
       "       [-1.85890228,  1.40415136, -1.96218035, ...,  1.5425039 ,\n",
       "         0.9958703 ,  0.96931758],\n",
       "       ...,\n",
       "       [ 1.61684579, -1.81059977,  2.43937319, ..., -1.81903133,\n",
       "        -1.98664325, -1.81658568],\n",
       "       [ 1.62859117, -1.84251329,  1.18360853, ..., -1.77822097,\n",
       "        -2.02179989, -1.90598922],\n",
       "       [ 1.7276634 , -1.9037951 ,  1.20462524, ..., -1.91071357,\n",
       "        -1.98442295, -1.81032349]])"
      ]
     },
     "execution_count": 6,
     "metadata": {},
     "output_type": "execute_result"
    }
   ],
   "source": [
    "data_scaled"
   ]
  },
  {
   "cell_type": "code",
   "execution_count": 7,
   "id": "786435e6",
   "metadata": {},
   "outputs": [],
   "source": [
    "#Creating model\n",
    "np.random.seed(42)\n",
    "model = LocalOutlierFactor(contamination= 0.26 )"
   ]
  },
  {
   "cell_type": "code",
   "execution_count": 8,
   "id": "e06e5dab",
   "metadata": {},
   "outputs": [],
   "source": [
    "# get the start time\n",
    "start_wall_time = time.time()\n",
    "start_cpu_time = time.process_time()"
   ]
  },
  {
   "cell_type": "code",
   "execution_count": 9,
   "id": "54221eff",
   "metadata": {},
   "outputs": [],
   "source": [
    "label=model.fit_predict(data_scaled)"
   ]
  },
  {
   "cell_type": "code",
   "execution_count": 10,
   "id": "70112447",
   "metadata": {},
   "outputs": [],
   "source": [
    "# get the end time\n",
    "end_wall_time = time.time()\n",
    "end_cpu_time = time.process_time()"
   ]
  },
  {
   "cell_type": "code",
   "execution_count": 11,
   "id": "47dd2b10",
   "metadata": {},
   "outputs": [
    {
     "data": {
      "text/plain": [
       "array([ 1,  1,  1, ..., -1, -1, -1])"
      ]
     },
     "execution_count": 11,
     "metadata": {},
     "output_type": "execute_result"
    }
   ],
   "source": [
    "#the predicted labels for each tuple . -1 indicates it is an anomulous tuple and 1 indicates it is not an anamolous tuple\n",
    "label"
   ]
  },
  {
   "cell_type": "code",
   "execution_count": 12,
   "id": "b12f35e6",
   "metadata": {},
   "outputs": [],
   "source": [
    "#Changing 1 to 0 and -1 to 1 \n",
    "label[label == 1] = 0\n",
    "label[label == -1] = 1\n"
   ]
  },
  {
   "cell_type": "code",
   "execution_count": 13,
   "id": "d146f9e9",
   "metadata": {},
   "outputs": [
    {
     "data": {
      "text/plain": [
       "array([0, 0, 0, ..., 1, 1, 1])"
      ]
     },
     "execution_count": 13,
     "metadata": {},
     "output_type": "execute_result"
    }
   ],
   "source": [
    "#1 indicates it is an anomulous tuple and 0 indicates it is not an anamolous tuple\n",
    "label"
   ]
  },
  {
   "cell_type": "code",
   "execution_count": 14,
   "id": "39ce7074",
   "metadata": {},
   "outputs": [],
   "source": [
    "data['Predictions'] = label"
   ]
  },
  {
   "cell_type": "code",
   "execution_count": 15,
   "id": "3963dab7",
   "metadata": {},
   "outputs": [
    {
     "data": {
      "text/plain": [
       "0    746\n",
       "1    262\n",
       "Name: Predictions, dtype: int64"
      ]
     },
     "execution_count": 15,
     "metadata": {},
     "output_type": "execute_result"
    }
   ],
   "source": [
    "data['Predictions'].value_counts()"
   ]
  },
  {
   "cell_type": "code",
   "execution_count": 16,
   "id": "3c4f0bde",
   "metadata": {},
   "outputs": [
    {
     "name": "stdout",
     "output_type": "stream",
     "text": [
      "timestamp\n",
      "2021-01-01 07:00:00    1\n",
      "2021-01-01 08:00:00    1\n",
      "2021-01-01 09:00:00    1\n",
      "2021-01-01 10:00:00    1\n",
      "2021-01-01 11:00:00    1\n",
      "                      ..\n",
      "2021-02-11 19:00:00    1\n",
      "2021-02-11 20:00:00    1\n",
      "2021-02-11 21:00:00    1\n",
      "2021-02-11 22:00:00    1\n",
      "2021-02-11 23:00:00    1\n",
      "Name: Predictions, Length: 262, dtype: int32\n"
     ]
    }
   ],
   "source": [
    "anomalies = data[data['Predictions'] == 1]\n",
    "print(anomalies['Predictions'])"
   ]
  },
  {
   "cell_type": "code",
   "execution_count": 17,
   "id": "dc5dc7ab",
   "metadata": {},
   "outputs": [],
   "source": [
    "# get the execution time\n",
    "wall_time = end_wall_time - start_wall_time\n",
    "cpu_time = end_cpu_time - start_cpu_time"
   ]
  },
  {
   "cell_type": "code",
   "execution_count": 18,
   "id": "33a3fff5",
   "metadata": {},
   "outputs": [
    {
     "name": "stdout",
     "output_type": "stream",
     "text": [
      "Elapsed time: 1.7894 seconds\n",
      "CPU time: 1.25 seconds\n"
     ]
    }
   ],
   "source": [
    "print(f'Elapsed time: {round((wall_time),4)} seconds')\n",
    "print(f'CPU time: {round((cpu_time),4)} seconds')"
   ]
  },
  {
   "cell_type": "code",
   "execution_count": 19,
   "id": "b486c7cc",
   "metadata": {},
   "outputs": [
    {
     "name": "stdout",
     "output_type": "stream",
     "text": [
      "Physical Memory usage: 160 MB\n",
      "Virtual Memory usage:  170 MB\n"
     ]
    }
   ],
   "source": [
    "print(f'Physical Memory usage: {int(psutil.Process(os.getpid()).memory_info().rss / 1024 ** 2)} MB') \n",
    "print(f'Virtual Memory usage:  {int(psutil.Process(os.getpid()).memory_info().vms / 1024 ** 2)} MB')"
   ]
  },
  {
   "cell_type": "code",
   "execution_count": 20,
   "id": "6721e009",
   "metadata": {},
   "outputs": [
    {
     "name": "stdout",
     "output_type": "stream",
     "text": [
      "precision= 0.5877862595419847\n",
      "f1= 0.5866666666666667\n",
      "recall= 0.5855513307984791\n",
      "accuracy= 0.7847222222222222\n"
     ]
    }
   ],
   "source": [
    "#PERFORMANCE PREDICTION\n",
    "from sklearn.metrics import accuracy_score, precision_score, f1_score, recall_score\n",
    "import pandas as pd\n",
    "\n",
    "\n",
    "true_values = data['Overall anomaly'].values\n",
    "predicted_values = data['Predictions'].values\n",
    "precision = precision_score(true_values, predicted_values)\n",
    "f1=f1_score(true_values, predicted_values)\n",
    "recall=recall_score(true_values, predicted_values)\n",
    "accuracy= accuracy_score(true_values, predicted_values)\n",
    "\n",
    "print(\"precision=\",precision)\n",
    "print(\"f1=\",f1)\n",
    "print(\"recall=\",recall)\n",
    "print(\"accuracy=\",accuracy)"
   ]
  },
  {
   "cell_type": "code",
   "execution_count": null,
   "id": "fdf102b1",
   "metadata": {},
   "outputs": [],
   "source": []
  }
 ],
 "metadata": {
  "kernelspec": {
   "display_name": "Python 3 (ipykernel)",
   "language": "python",
   "name": "python3"
  },
  "language_info": {
   "codemirror_mode": {
    "name": "ipython",
    "version": 3
   },
   "file_extension": ".py",
   "mimetype": "text/x-python",
   "name": "python",
   "nbconvert_exporter": "python",
   "pygments_lexer": "ipython3",
   "version": "3.10.9"
  }
 },
 "nbformat": 4,
 "nbformat_minor": 5
}
