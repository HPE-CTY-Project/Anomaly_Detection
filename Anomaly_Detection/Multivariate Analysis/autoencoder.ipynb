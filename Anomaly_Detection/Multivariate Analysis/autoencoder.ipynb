{
 "cells": [
  {
   "cell_type": "code",
   "execution_count": 1,
   "id": "0e60403f",
   "metadata": {},
   "outputs": [],
   "source": [
    "import numpy as np\n",
    "import pandas as pd\n",
    "import matplotlib.pyplot as plt\n",
    "from tensorflow.keras.layers import Input, Dense\n",
    "from tensorflow.keras.models import Model\n",
    "from sklearn.preprocessing import MinMaxScaler\n",
    "from sklearn.covariance import EllipticEnvelope\n",
    "from sklearn.metrics import accuracy_score, precision_score, f1_score, recall_score\n",
    "\n",
    "plt.rcParams['figure.figsize'] = [20, 8]"
   ]
  },
  {
   "cell_type": "code",
   "execution_count": 2,
   "id": "59b9ae82",
   "metadata": {},
   "outputs": [],
   "source": [
    "import time\n",
    "import psutil\n",
    "import os"
   ]
  },
  {
   "cell_type": "code",
   "execution_count": 3,
   "id": "b41d3f8b",
   "metadata": {},
   "outputs": [],
   "source": [
    "data=pd.read_csv('C:\\\\Users\\\\vaish\\\\OneDrive\\\\Desktop\\\\hpe\\\\data_new.csv')\n",
    "data['timestamp'] = pd.to_datetime(data['timestamp'])\n",
    "data.set_index('timestamp', inplace=True)\n",
    "data_b = data.iloc[:, 0:-3:2]"
   ]
  },
  {
   "cell_type": "code",
   "execution_count": 4,
   "id": "e28ec350",
   "metadata": {},
   "outputs": [],
   "source": [
    "cont=0.26"
   ]
  },
  {
   "cell_type": "code",
   "execution_count": 5,
   "id": "413031fe",
   "metadata": {},
   "outputs": [],
   "source": [
    "scaler = MinMaxScaler()\n",
    "data_df = scaler.fit_transform(data_b)\n",
    "df = pd.DataFrame(data_df, columns=data_b.columns, index=data.index)"
   ]
  },
  {
   "cell_type": "code",
   "execution_count": 6,
   "id": "3a2b4339",
   "metadata": {},
   "outputs": [],
   "source": [
    "input_dim = 30  # number of features in the input data\n",
    "encoding_dim = 10  # number of neurons in the bottleneck layer"
   ]
  },
  {
   "cell_type": "code",
   "execution_count": 7,
   "id": "ac9be2ba",
   "metadata": {},
   "outputs": [],
   "source": [
    "input_layer = Input(shape=(input_dim,))\n",
    "encoder = Dense(encoding_dim, activation=\"relu\")(input_layer)\n",
    "decoder = Dense(input_dim, activation=\"sigmoid\")(encoder)\n",
    "autoencoder = Model(inputs=input_layer, outputs=decoder)\n",
    "autoencoder.compile(optimizer='adam', loss='mse')"
   ]
  },
  {
   "cell_type": "code",
   "execution_count": 8,
   "id": "57e58b3d",
   "metadata": {},
   "outputs": [
    {
     "name": "stdout",
     "output_type": "stream",
     "text": [
      "Epoch 1/100\n",
      "32/32 [==============================] - 0s 1ms/step - loss: 0.0540\n",
      "Epoch 2/100\n",
      "32/32 [==============================] - 0s 983us/step - loss: 0.0443\n",
      "Epoch 3/100\n",
      "32/32 [==============================] - 0s 827us/step - loss: 0.0356\n",
      "Epoch 4/100\n",
      "32/32 [==============================] - 0s 1ms/step - loss: 0.0264\n",
      "Epoch 5/100\n",
      "32/32 [==============================] - 0s 2ms/step - loss: 0.0187\n",
      "Epoch 6/100\n",
      "32/32 [==============================] - 0s 2ms/step - loss: 0.0134\n",
      "Epoch 7/100\n",
      "32/32 [==============================] - 0s 2ms/step - loss: 0.0104\n",
      "Epoch 8/100\n",
      "32/32 [==============================] - 0s 2ms/step - loss: 0.0089\n",
      "Epoch 9/100\n",
      "32/32 [==============================] - 0s 2ms/step - loss: 0.0081\n",
      "Epoch 10/100\n",
      "32/32 [==============================] - 0s 2ms/step - loss: 0.0076\n",
      "Epoch 11/100\n",
      "32/32 [==============================] - 0s 2ms/step - loss: 0.0074\n",
      "Epoch 12/100\n",
      "32/32 [==============================] - 0s 2ms/step - loss: 0.0072\n",
      "Epoch 13/100\n",
      "32/32 [==============================] - 0s 1ms/step - loss: 0.0071\n",
      "Epoch 14/100\n",
      "32/32 [==============================] - 0s 1ms/step - loss: 0.0070\n",
      "Epoch 15/100\n",
      "32/32 [==============================] - 0s 1ms/step - loss: 0.0069\n",
      "Epoch 16/100\n",
      "32/32 [==============================] - 0s 1ms/step - loss: 0.0068\n",
      "Epoch 17/100\n",
      "32/32 [==============================] - 0s 2ms/step - loss: 0.0067\n",
      "Epoch 18/100\n",
      "32/32 [==============================] - 0s 2ms/step - loss: 0.0067\n",
      "Epoch 19/100\n",
      "32/32 [==============================] - 0s 2ms/step - loss: 0.0066\n",
      "Epoch 20/100\n",
      "32/32 [==============================] - 0s 2ms/step - loss: 0.0065\n",
      "Epoch 21/100\n",
      "32/32 [==============================] - 0s 2ms/step - loss: 0.0064\n",
      "Epoch 22/100\n",
      "32/32 [==============================] - 0s 1ms/step - loss: 0.0064\n",
      "Epoch 23/100\n",
      "32/32 [==============================] - 0s 1ms/step - loss: 0.0063\n",
      "Epoch 24/100\n",
      "32/32 [==============================] - 0s 2ms/step - loss: 0.0062\n",
      "Epoch 25/100\n",
      "32/32 [==============================] - 0s 2ms/step - loss: 0.0061\n",
      "Epoch 26/100\n",
      "32/32 [==============================] - 0s 2ms/step - loss: 0.0059\n",
      "Epoch 27/100\n",
      "32/32 [==============================] - 0s 2ms/step - loss: 0.0058\n",
      "Epoch 28/100\n",
      "32/32 [==============================] - 0s 2ms/step - loss: 0.0057\n",
      "Epoch 29/100\n",
      "32/32 [==============================] - 0s 2ms/step - loss: 0.0055\n",
      "Epoch 30/100\n",
      "32/32 [==============================] - 0s 1ms/step - loss: 0.0054\n",
      "Epoch 31/100\n",
      "32/32 [==============================] - 0s 1ms/step - loss: 0.0052\n",
      "Epoch 32/100\n",
      "32/32 [==============================] - 0s 814us/step - loss: 0.0050\n",
      "Epoch 33/100\n",
      "32/32 [==============================] - 0s 1ms/step - loss: 0.0049\n",
      "Epoch 34/100\n",
      "32/32 [==============================] - 0s 1ms/step - loss: 0.0047\n",
      "Epoch 35/100\n",
      "32/32 [==============================] - 0s 1ms/step - loss: 0.0045\n",
      "Epoch 36/100\n",
      "32/32 [==============================] - 0s 2ms/step - loss: 0.0043\n",
      "Epoch 37/100\n",
      "32/32 [==============================] - 0s 1ms/step - loss: 0.0041\n",
      "Epoch 38/100\n",
      "32/32 [==============================] - 0s 2ms/step - loss: 0.0040\n",
      "Epoch 39/100\n",
      "32/32 [==============================] - 0s 1ms/step - loss: 0.0038\n",
      "Epoch 40/100\n",
      "32/32 [==============================] - 0s 1ms/step - loss: 0.0037\n",
      "Epoch 41/100\n",
      "32/32 [==============================] - 0s 983us/step - loss: 0.0035\n",
      "Epoch 42/100\n",
      "32/32 [==============================] - 0s 1ms/step - loss: 0.0034\n",
      "Epoch 43/100\n",
      "32/32 [==============================] - 0s 1ms/step - loss: 0.0033\n",
      "Epoch 44/100\n",
      "32/32 [==============================] - 0s 1ms/step - loss: 0.0032\n",
      "Epoch 45/100\n",
      "32/32 [==============================] - 0s 1ms/step - loss: 0.0031\n",
      "Epoch 46/100\n",
      "32/32 [==============================] - 0s 2ms/step - loss: 0.0030\n",
      "Epoch 47/100\n",
      "32/32 [==============================] - 0s 909us/step - loss: 0.0030\n",
      "Epoch 48/100\n",
      "32/32 [==============================] - 0s 2ms/step - loss: 0.0029\n",
      "Epoch 49/100\n",
      "32/32 [==============================] - 0s 1ms/step - loss: 0.0028\n",
      "Epoch 50/100\n",
      "32/32 [==============================] - 0s 903us/step - loss: 0.0028\n",
      "Epoch 51/100\n",
      "32/32 [==============================] - 0s 802us/step - loss: 0.0027\n",
      "Epoch 52/100\n",
      "32/32 [==============================] - 0s 1ms/step - loss: 0.0027\n",
      "Epoch 53/100\n",
      "32/32 [==============================] - 0s 1ms/step - loss: 0.0026\n",
      "Epoch 54/100\n",
      "32/32 [==============================] - 0s 843us/step - loss: 0.0026\n",
      "Epoch 55/100\n",
      "32/32 [==============================] - 0s 900us/step - loss: 0.0025\n",
      "Epoch 56/100\n",
      "32/32 [==============================] - 0s 759us/step - loss: 0.0025\n",
      "Epoch 57/100\n",
      "32/32 [==============================] - 0s 1ms/step - loss: 0.0024\n",
      "Epoch 58/100\n",
      "32/32 [==============================] - 0s 742us/step - loss: 0.0024\n",
      "Epoch 59/100\n",
      "32/32 [==============================] - 0s 1ms/step - loss: 0.0024\n",
      "Epoch 60/100\n",
      "32/32 [==============================] - 0s 977us/step - loss: 0.0024\n",
      "Epoch 61/100\n",
      "32/32 [==============================] - 0s 1ms/step - loss: 0.0023\n",
      "Epoch 62/100\n",
      "32/32 [==============================] - 0s 1ms/step - loss: 0.0023\n",
      "Epoch 63/100\n",
      "32/32 [==============================] - 0s 1ms/step - loss: 0.0023\n",
      "Epoch 64/100\n",
      "32/32 [==============================] - 0s 1ms/step - loss: 0.0022\n",
      "Epoch 65/100\n",
      "32/32 [==============================] - 0s 1ms/step - loss: 0.0022\n",
      "Epoch 66/100\n",
      "32/32 [==============================] - 0s 1ms/step - loss: 0.0022\n",
      "Epoch 67/100\n",
      "32/32 [==============================] - 0s 1ms/step - loss: 0.0022\n",
      "Epoch 68/100\n",
      "32/32 [==============================] - 0s 1ms/step - loss: 0.0022\n",
      "Epoch 69/100\n",
      "32/32 [==============================] - 0s 1ms/step - loss: 0.0021\n",
      "Epoch 70/100\n",
      "32/32 [==============================] - 0s 1ms/step - loss: 0.0021\n",
      "Epoch 71/100\n",
      "32/32 [==============================] - 0s 1ms/step - loss: 0.0021\n",
      "Epoch 72/100\n",
      "32/32 [==============================] - 0s 1ms/step - loss: 0.0021\n",
      "Epoch 73/100\n",
      "32/32 [==============================] - 0s 1ms/step - loss: 0.0020\n",
      "Epoch 74/100\n",
      "32/32 [==============================] - 0s 2ms/step - loss: 0.0020\n",
      "Epoch 75/100\n",
      "32/32 [==============================] - 0s 1ms/step - loss: 0.0020\n",
      "Epoch 76/100\n",
      "32/32 [==============================] - 0s 1ms/step - loss: 0.0020\n",
      "Epoch 77/100\n",
      "32/32 [==============================] - 0s 980us/step - loss: 0.0020\n",
      "Epoch 78/100\n",
      "32/32 [==============================] - 0s 900us/step - loss: 0.0020\n",
      "Epoch 79/100\n",
      "32/32 [==============================] - 0s 1ms/step - loss: 0.0019\n",
      "Epoch 80/100\n",
      "32/32 [==============================] - 0s 1ms/step - loss: 0.0019\n",
      "Epoch 81/100\n",
      "32/32 [==============================] - 0s 1ms/step - loss: 0.0019\n",
      "Epoch 82/100\n",
      "32/32 [==============================] - 0s 909us/step - loss: 0.0019\n",
      "Epoch 83/100\n",
      "32/32 [==============================] - 0s 1ms/step - loss: 0.0019\n",
      "Epoch 84/100\n",
      "32/32 [==============================] - 0s 980us/step - loss: 0.0018\n",
      "Epoch 85/100\n",
      "32/32 [==============================] - 0s 960us/step - loss: 0.0018\n",
      "Epoch 86/100\n",
      "32/32 [==============================] - 0s 948us/step - loss: 0.0018\n",
      "Epoch 87/100\n",
      "32/32 [==============================] - 0s 790us/step - loss: 0.0018\n",
      "Epoch 88/100\n",
      "32/32 [==============================] - 0s 884us/step - loss: 0.0018\n",
      "Epoch 89/100\n",
      "32/32 [==============================] - 0s 981us/step - loss: 0.0018\n",
      "Epoch 90/100\n",
      "32/32 [==============================] - 0s 978us/step - loss: 0.0018\n",
      "Epoch 91/100\n",
      "32/32 [==============================] - 0s 609us/step - loss: 0.0018\n",
      "Epoch 92/100\n",
      "32/32 [==============================] - 0s 671us/step - loss: 0.0017\n",
      "Epoch 93/100\n",
      "32/32 [==============================] - 0s 2ms/step - loss: 0.0017\n",
      "Epoch 94/100\n",
      "32/32 [==============================] - 0s 794us/step - loss: 0.0017\n",
      "Epoch 95/100\n",
      "32/32 [==============================] - 0s 674us/step - loss: 0.0017\n",
      "Epoch 96/100\n",
      "32/32 [==============================] - 0s 714us/step - loss: 0.0017\n",
      "Epoch 97/100\n",
      "32/32 [==============================] - 0s 1ms/step - loss: 0.0017\n",
      "Epoch 98/100\n",
      "32/32 [==============================] - 0s 587us/step - loss: 0.0017\n",
      "Epoch 99/100\n",
      "32/32 [==============================] - 0s 1ms/step - loss: 0.0017\n",
      "Epoch 100/100\n",
      "32/32 [==============================] - 0s 950us/step - loss: 0.0017\n"
     ]
    },
    {
     "data": {
      "text/plain": [
       "<tensorflow.python.keras.callbacks.History at 0x174ac193b50>"
      ]
     },
     "execution_count": 8,
     "metadata": {},
     "output_type": "execute_result"
    }
   ],
   "source": [
    "start_wall_time = time.time()\n",
    "start_cpu_time = time.process_time()\n",
    "autoencoder.fit(df, df, epochs=100, batch_size=32)"
   ]
  },
  {
   "cell_type": "code",
   "execution_count": 9,
   "id": "d2bb2689",
   "metadata": {},
   "outputs": [],
   "source": [
    "reconstructed_data = autoencoder.predict(df)\n",
    "# get the end time\n",
    "end_wall_time = time.time()\n",
    "end_cpu_time = time.process_time()\n",
    "\n",
    "mse = np.mean(np.power(df - reconstructed_data, 2), axis=1)"
   ]
  },
  {
   "cell_type": "code",
   "execution_count": 10,
   "id": "4e01a47a",
   "metadata": {},
   "outputs": [
    {
     "data": {
      "text/plain": [
       "EllipticEnvelope(contamination=0.26)"
      ]
     },
     "execution_count": 10,
     "metadata": {},
     "output_type": "execute_result"
    }
   ],
   "source": [
    "envelope = EllipticEnvelope(contamination=cont)  # Set the contamination parameter here\n",
    "envelope.fit(df)"
   ]
  },
  {
   "cell_type": "code",
   "execution_count": 11,
   "id": "cfa18d34",
   "metadata": {},
   "outputs": [],
   "source": [
    "anomalies = pd.DataFrame(index=df.index)\n",
    "anomalies['prediction'] = np.where(envelope.predict(df) == -1, 1, 0)"
   ]
  },
  {
   "cell_type": "code",
   "execution_count": 12,
   "id": "aa588ca4",
   "metadata": {},
   "outputs": [],
   "source": [
    "# get the execution time\n",
    "wall_time = end_wall_time - start_wall_time\n",
    "cpu_time = end_cpu_time - start_cpu_time"
   ]
  },
  {
   "cell_type": "code",
   "execution_count": 13,
   "id": "6fd1fcf6",
   "metadata": {},
   "outputs": [
    {
     "name": "stdout",
     "output_type": "stream",
     "text": [
      "Elapsed time: 5 seconds\n",
      "CPU time: 1 seconds\n"
     ]
    }
   ],
   "source": [
    "print(f'Elapsed time: {int(wall_time)} seconds')\n",
    "print(f'CPU time: {int(cpu_time)} seconds')"
   ]
  },
  {
   "cell_type": "code",
   "execution_count": 14,
   "id": "17745627",
   "metadata": {},
   "outputs": [
    {
     "name": "stdout",
     "output_type": "stream",
     "text": [
      "Physical Memory usage: 299 MB\n",
      "Virtual Memory usage:  274 MB\n"
     ]
    }
   ],
   "source": [
    "print(f'Physical Memory usage: {int(psutil.Process(os.getpid()).memory_info().rss / 1024 ** 2)} MB') \n",
    "print(f'Virtual Memory usage:  {int(psutil.Process(os.getpid()).memory_info().vms / 1024 ** 2)} MB')"
   ]
  },
  {
   "cell_type": "code",
   "execution_count": 17,
   "id": "aee77079",
   "metadata": {},
   "outputs": [],
   "source": [
    "#PERFORMANCE PREDICTION\n",
    "from sklearn.metrics import accuracy_score, precision_score, f1_score, recall_score\n",
    "true_values = data['Overall anomaly'].values\n",
    "predicted_values = anomalies['prediction'].values\n",
    "\n",
    "precision = precision_score(true_values, predicted_values)\n",
    "f1 = f1_score(true_values, predicted_values)\n",
    "recall = recall_score(true_values, predicted_values)\n",
    "accuracy = accuracy_score(true_values, predicted_values)"
   ]
  },
  {
   "cell_type": "code",
   "execution_count": 18,
   "id": "83c515bc",
   "metadata": {},
   "outputs": [
    {
     "name": "stdout",
     "output_type": "stream",
     "text": [
      "Precision = 0.2786259541984733\n",
      "F1 Score = 0.2780952380952381\n",
      "Recall = 0.27756653992395436\n",
      "Accuracy = 0.6240079365079365\n"
     ]
    }
   ],
   "source": [
    "print(\"Precision =\", precision)\n",
    "print(\"F1 Score =\", f1)\n",
    "print(\"Recall =\", recall)\n",
    "print(\"Accuracy =\", accuracy)\n"
   ]
  },
  {
   "cell_type": "code",
   "execution_count": null,
   "id": "354435cb",
   "metadata": {},
   "outputs": [],
   "source": []
  }
 ],
 "metadata": {
  "kernelspec": {
   "display_name": "Python 3",
   "language": "python",
   "name": "python3"
  },
  "language_info": {
   "codemirror_mode": {
    "name": "ipython",
    "version": 3
   },
   "file_extension": ".py",
   "mimetype": "text/x-python",
   "name": "python",
   "nbconvert_exporter": "python",
   "pygments_lexer": "ipython3",
   "version": "3.8.8"
  }
 },
 "nbformat": 4,
 "nbformat_minor": 5
}
